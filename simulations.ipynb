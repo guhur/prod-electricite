{
 "cells": [
  {
   "cell_type": "markdown",
   "metadata": {},
   "source": [
    "# Modélisation de la consommation et de la production d'un foyer équipé d'un photovoltaique, d'une éolienne et d'une batterie\n",
    "\n",
    "Ce notebook permet de reproduire les expériences du papier :\n",
    "\n",
    "TODO:\n",
    "- inclure la prediction de la consommation\n",
    "- inclure le temps de calcul\n",
    "- update sources des données\n",
    "- IoT peut foncitonner en temps reel mais limitation par la resolution des donnees obtenues\n",
    "    \n",
    "https://www.meteoblue.com/fr/historyplus\n",
    "    \n",
    "## Estimation de la consommation\n",
    "On estime que le foyer a une consommation électrique annuelle de 20000 kWh[1]. Les données proviennent du gouvernement français[2]. Les heures creuses/pleines sont prises pour Cachan.\n",
    "\n",
    "[1] http://www.monenergie.net/consommation-moyenne-d-electricite-d-une-maison.php \"Consommation moyenne d'une maison\"\n",
    "\n",
    "[2] https://www.data.gouv.fr/fr/datasets/bilan-electrique-au-pas-demi-heure/ \"Dataset de consommation\"\n",
    "\n",
    "## Prix de l'électricité\n",
    "http://www.kelwatt.fr/guide/prix-par-mois#base\n",
    "\n",
    "http://www.jechange.fr/energie/electricite/guides/prix-electricite-kwh-2435\n",
    "- Abonnement annuel : 117,50 €\n",
    "- Evolution des prix sur 2013 en suivant l'historique de :\n",
    "http://www.kelwatt.fr/prix/tarif-bleu-edf#trouver-moins-cher-tarif-bleu\n",
    "- prix du kWh: (heures pleines, heures creuses) = 0.129, 0.105\n",
    "\n",
    "\n",
    "Rachat du photovoltaïque :\n",
    "- Intégration au bâti :\n",
    "    0-9 kWc = 24,29 cts€/kWh (24,64 cts€/kWh le trimestre précédent)\n",
    "- Intégration simplifiée au bâti :\n",
    "    0-36 kW = 12,72 cts€/kWh (13,27 cts€/kWh le trimestre précédent)\n",
    "    36-100 kW = 12,13 cts€/kWh (12,62 cts€/kWh le trimestre précédent)\n",
    "- Sans intégration, ou hors critères ci-dessus, ou au sol:\n",
    "    5,65 c€/kWh (5,96 cts€/kwh le trimestre précédent)\n",
    "\n",
    "Rachat de l'éolien :\n",
    "- http://www.developpement-durable.gouv.fr/Les-tarifs-d-achat-de-l,12195.html\n",
    "- prix: 8.2cEUR/kWh\n"
   ]
  },
  {
   "cell_type": "code",
   "execution_count": 10,
   "metadata": {
    "collapsed": false
   },
   "outputs": [],
   "source": [
    "from mpl_toolkits.axes_grid1.parasite_axes import host_subplot\n",
    "from mpl_toolkits.axisartist.axislines import Axes\n",
    "from scipy.sparse.csr import csr_matrix\n",
    "from sklearn import datasets\n",
    "from sklearn.utils import shuffle\n",
    "from sklearn.metrics import mean_squared_error\n",
    "from sklearn.svm.classes import NuSVR\n",
    "from sklearn.ensemble.gradient_boosting import GradientBoostingRegressor\n",
    "from sklearn.linear_model.stochastic_gradient import SGDClassifier\n",
    "from sklearn.metrics import hamming_loss\n",
    "\n",
    "\n",
    "# -*- coding: latin-1 -*-\n",
    "import locale, time\n",
    "locale.setlocale(locale.LC_TIME, \"fr_FR\".encode('ascii'))\n",
    "import numpy as np\n",
    "import pandas as pd\n",
    "import matplotlib.pyplot as plt\n",
    "import matplotlib\n",
    "from matplotlib import rc\n",
    "from __future__ import unicode_literals\n",
    "import numpy as np\n",
    "import matplotlib\n",
    "matplotlib.rcParams['text.usetex'] = True\n",
    "matplotlib.rcParams['text.latex.unicode'] = True\n",
    "rc('font',**{'family':'serif','serif':['Times']})\n",
    "%matplotlib osx\n",
    "\n",
    "# données de consommation\n",
    "df=pd.read_csv('dataset/consommation_suisse_2015.csv', sep=\",\")\n",
    "df[\"consommation\"].head()\n",
    "df[\"date\"]= df[\"time\"].str.split(\" - \").str[0]\n",
    "df[\"date\"]= pd.to_datetime(df[\"date\"])\n",
    "df = df.set_index(['date'])\n",
    "df = df[~df.index.duplicated()]\n",
    "df = df.sort_index()\n",
    "hour = df.index.hour\n",
    "month = df.index.month\n",
    "HC = ((hour >= 2) & (hour < 7)) | ((hour >= 14) & (hour < 17))\n",
    "HP =  ((hour >= 7) & (hour < 14)) | (hour >= 17) | (hour < 2)\n",
    "consoPerso = 20000 # consommation annuelle kWh d'un foyer\n",
    "# 20000 pour un foyer : http://www.monenergie.net/consommation-moyenne-d-electricite-d-une-maison.php\n",
    "consoTotale   = df[\"consommation\"].sum()/1000 # consommation annuelle en kWh\n",
    "df[\"consommation\"] =  df[\"consommation\"]*consoPerso/consoTotale\n",
    "\n",
    "prix_achat = np.array([0.129, 0.105])\n",
    "# evolution = np.array([2.3, 0, 0, 0 ,0 ,0, 0, 5, 0,0,0,0])\n",
    "inflation = (1+evolution/100).cumprod()\n",
    "df[\"Inflation\"] = pd.Series(np.nan, df.index)\n",
    "df[\"Inflation\"].loc[(df.index.day == 1) & (df.index.hour == 0)] = inflation\n",
    "df[\"Inflation\"] = df[\"Inflation\"].fillna(method='ffill')\n",
    "abonnement = 117.5\n",
    "abonnement_heure = abonnement/365.25/24\n",
    "prix_hc = prix_achat[1]* df[\"Inflation\"] +abonnement_heure\n",
    "prix_hp = prix_achat[0]* df[\"Inflation\"] +abonnement_heure\n",
    "prix = prix_hp\n",
    "prix.loc[(hour >= 2) & (hour < 7)] = prix_hc[(hour >= 2) & (hour < 7)]\n",
    "prix.loc[(hour >= 14) & (hour < 17)] = prix_hc[(hour >= 14) & (hour < 17)]\n",
    "df[\"depense\"] = df[\"consommation\"].copy()\n",
    "df[\"depense\"].loc[HC] *= prix_hc\n",
    "df[\"depense\"].loc[HP] *= prix_hp\n",
    "prix_pv = 0.1272 - abonnement_heure\n",
    "prix_eolien = 0.082 - abonnement_heure \n",
    "\n",
    "\n",
    "# données Bale\n",
    "bale=pd.read_csv('dataset/bale.csv', sep=\";\", skiprows=11)\n",
    "bale[\"date\"]=pd.to_datetime({\n",
    "        'year': bale[\"Year\"],\n",
    "        'month': bale[\"Month\"],\n",
    "        'day': bale[\"Day\"],\n",
    "        'hour': bale[\"Hour\"],\n",
    "                    })\n",
    "bale = bale.set_index(['date'])\n",
    "bale = bale[(bale.index.year == 2013)]\n",
    "bale[\"temperature\"] = bale[\"Temperature  [2 m above gnd]\"]\n",
    "bale[\"radiation\"] = bale[\"Shortwave Radiation - backwards  [sfc]\"]/1000\n",
    "bale[\"consommation\"] = df['consommation']\n",
    "bale[\"depense\"] = df[\"depense\"] # depense sans PV\n",
    "bale[\"inflation\"] = df[\"Inflation\"]\n",
    "bale['rafale'] = bale['Wind Gust  [10 m above gnd]']\n",
    "bale['vent'] = bale['Wind speed  [10 m above gnd]']"
   ]
  },
  {
   "cell_type": "code",
   "execution_count": null,
   "metadata": {
    "collapsed": false
   },
   "outputs": [],
   "source": [
    "def Depense(manque, rachat=prix_eolien):\n",
    "    depense = pd.Series(0, index=manque.index)\n",
    "    depense[manque.values < 0] += manque[manque.values < 0]*rachat\n",
    "    depense[(manque.values > 0)] += manque[(manque.values > 0)]*prix\n",
    "    return depense.cumsum()\n",
    "\n",
    "# test:\n",
    "# manque = pd.Series(np.random.rand(len(bale.index)), index=bale.index)\n",
    "# Depense(manque,(bale.index.year == 2013)).plot()"
   ]
  },
  {
   "cell_type": "markdown",
   "metadata": {},
   "source": [
    "## Prédiction de la consommation"
   ]
  },
  {
   "cell_type": "code",
   "execution_count": null,
   "metadata": {
    "collapsed": true
   },
   "outputs": [],
   "source": [
    "def prediction(day):\n",
    "    '''At the end of each day, on trained our model with one month previous data'''\n",
    "    \n",
    "       {'estimator': GradientBoostingRegressor,\n",
    "     'tuned_params': {'loss': 'ls'},\n",
    "     'changing_param': 'n_estimators',\n",
    "     'changing_param_values': [300, 500, 1000, 1500],\n",
    "     'complexity_label': 'n_trees',\n",
    "     'complexity_computer': lambda x: x.n_estimators,\n",
    "     'data': regression_1month,\n",
    "     'postfit_hook': lambda x: x,\n",
    "     'prediction_performance_computer': mean_squared_error,\n",
    "     'prediction_performance_label': 'MSE',\n",
    "     'n_samples': 30}\n",
    "        \n",
    "\n",
    "    conf['tuned_params'][conf['changing_param']] = param_value\n",
    "        estimator = conf['estimator'](**conf['tuned_params'])\n",
    "#         print(\"Benchmarking %s\" % estimator)\n",
    "        estimator.fit(conf['data']['X_train'], conf['data']['y_train'])\n",
    "        conf['postfit_hook'](estimator)\n",
    "        complexity = conf['complexity_computer'](estimator)\n",
    "        complexities.append(complexity)\n",
    "        start_time = time.time()\n",
    "        for _ in range(conf['n_samples']):\n",
    "            y_pred = estimator.predict(conf['data']['X_test'])\n",
    "        elapsed_time = (time.time() - start_time) / float(conf['n_samples'])\n",
    "        prediction_times.append(elapsed_time)\n",
    "        pred_score = conf['prediction_performance_computer'](\n",
    "            conf['data']['y_test'], y_pred)\n",
    "        prediction_powers.append(pred_score)\n",
    "#         print(\"Complexity: %d | %s: %.4f | Pred. Time: %fs\\n\" % (\n",
    "#             complexity, conf['prediction_performance_label'], pred_score,\n",
    "#             elapsed_time))\n",
    "    return prediction_powers, prediction_times, complexities, y_pred\n"
   ]
  },
  {
   "cell_type": "markdown",
   "metadata": {},
   "source": [
    "# Lecture des donnés historiques de Bâle en ensoleillement et température :\n"
   ]
  },
  {
   "cell_type": "markdown",
   "metadata": {},
   "source": [
    "## Production d'électricité photovoltaïque et éolienne\n",
    "Thèse O. Gergaud, modèle polynomial\n",
    "$P_{G,max} = P_1\\left[ 1 + P_2 (T - T_{ref}) \\right] (P_3 + E_s)$\n",
    "avec :\n",
    "- $P_1 = 0.99$ (ou 0.099 pour un panneau)\n",
    "- $P_2 = -4.7e^{-3} K^{-1}$ dérive en température\n",
    "- $P_3 = 45$\n",
    "- $T_{ref} = 24°C$\n",
    "- $E_s$ ensoleillement dans le plan de panneaux (W/m^2)\n",
    "\n",
    "Eolienne considérée :\n",
    "- http://www.fw4sea.com/produits-fr/fiches-techniques/80-fiches-techniques-fr/88-f180-50"
   ]
  },
  {
   "cell_type": "code",
   "execution_count": 11,
   "metadata": {
    "collapsed": false
   },
   "outputs": [],
   "source": [
    "P1 =  6 #rendement de 30m2 de panneau solaire\n",
    "P2 = -4.7e-3 #deviation en temperatrue\n",
    "P3 = 45e-3 #gain supplémentaire\n",
    "Tref = 24\n",
    "NOCT = 43\n",
    "bale[\"prod-pv\"] = P1*( 1 + P2*(bale[\"radiation\"]* (NOCT-20)/800))*(P3+bale[\"radiation\"])\n",
    "period = (bale.index.month == 6) & (bale.index.day == 30)\n",
    "\n",
    "# F180-50\n",
    "# puissance = np.ones(20)* 50.0\n",
    "# puissance[:10]= [0,0,1,2.16,5.12,9.5,15.55, 23.52, 33.65, 45.0]\n",
    "# Modele F100-10\n",
    "puissance = np.ones(20)* 10.0\n",
    "\n",
    "# Modele F180-36\n",
    "puissance = np.ones(20)* 36.0\n",
    "puissance[:10]= [0,0,0,0.68,2.5, 5.45, 9.85, 15.9, 23.85, 33.9]\n",
    "plt.figure()\n",
    "bale['prod-eol'] = np.interp( bale['vent'].values, np.arange(20.0)*3.6, puissance)\n",
    "ax = plt.plot(bale['vent'], bale['prod-eol'].values, '+')\n",
    "plt.xlabel(\"Vitesse du vent (m/s)\")\n",
    "plt.ylabel(\"Puissance produite (kW)\")\n",
    "plt.show()\n",
    "\n",
    "\n",
    "plt.figure()\n",
    "ax = bale[period].plot(y='prod-eol', label=\"Eolien\")\n",
    "bale[period].plot(y=\"prod-pv\", label=\"Photovoltaique\", ax=ax)\n",
    "bale[period].plot(y=\"consommation\", label=\"Consommation\", ax=ax)\n",
    "ax.legend(bbox_to_anchor=(0., 1.02, 1., .102), loc=3,\n",
    "           ncol=3, mode=\"expand\", borderaxespad=0.)\n",
    "ax = plt.gca()\n",
    "ax.yaxis.grid()\n",
    "plt.xlabel(bale[period].index[0].strftime(\"%d %b %Y\"))\n",
    "plt.ylabel(\"kWh\")\n",
    "ticklabels = ['']*len( bale[period].index)\n",
    "ticklabels[::3] = [item.strftime('%-H') for item in  bale[period].index[::3]]\n",
    "ax.xaxis.set_major_formatter(matplotlib.ticker.FixedFormatter(ticklabels))\n",
    "# ax.gcf().autofmt_xdate()\n",
    "\n"
   ]
  },
  {
   "cell_type": "markdown",
   "metadata": {},
   "source": [
    "## Loi de commande \n",
    "    - Vente: on vend tout, puis on achète selon nos besoins\n",
    "    - Consommation: on consomme ce qu'on produit, puis on vend les surplus\n",
    "    - BatterieNormale: on stocke les surplus\n",
    "    - BatterieAchat: à la fin d'une période d'heures creuses, on achète pour remplir la batterie jusqu'à un certain stade\n",
    "    - BatterieAchatOpt: à la fin d'une période d'heures creuses, on achète pour remplir la batterie afin ne pas manquer d'électricité lors d'une période d'heures pleines"
   ]
  },
  {
   "cell_type": "code",
   "execution_count": 12,
   "metadata": {
    "collapsed": false
   },
   "outputs": [],
   "source": [
    "def Vente(consommation, production, mask, rachat=prix_eolien):\n",
    "    depense = -production[mask]*rachat\n",
    "    depense += consommation[mask]*prix[mask]\n",
    "    return depense.cumsum()\n",
    "\n",
    "def Consommation(consommation, production, mask, rachat=prix_eolien):\n",
    "    besoin = (consommation - production)\n",
    "    return Depense(besoin[mask], rachat)\n",
    "\n",
    "def BatterieNormale(besoin, cap_batterie, period, rendement=0.9):\n",
    "    batteriePleine = pd.Series(cap_batterie, index=bale[period].index) \n",
    "    stockage = pd.Series(0, index=bale[period].index) \n",
    "    manque = pd.Series(0, index=bale[period].index)   # manque  : > 0 si reseau > maison, <= 0 sinon\n",
    "    stockagePre = 0.0\n",
    "    for p in bale[period].index:\n",
    "        m=  bale[period].index == p\n",
    "        if besoin[m].values[0] > 0:\n",
    "            manque[m] = max(-stockagePre*rendement+besoin[m].values[0],0)\n",
    "            stockage[m] = max(stockagePre-besoin[m].values[0]/rendement,0)\n",
    "        elif besoin[m].values[0] < 0 and -besoin[m].values[0] > (cap_batterie - stockagePre):\n",
    "                stockage[m]=cap_batterie\n",
    "                manque[m] = (cap_batterie - stockagePre) -(-besoin[m].values[0]) # < 0 \n",
    "        elif besoin[m].values[0] < 0 and -besoin[m].values[0] < (cap_batterie - stockagePre):\n",
    "                manque[m] = 0\n",
    "                stockage[m] = -besoin[m].values[0] + stockagePre\n",
    "        stockagePre = stockage[m].values[0]\n",
    "\n",
    "    return [manque, stockage]\n",
    "\n",
    "def BatterieAchat(besoin, cap_batterie, period, coeff = 1.0, rendement = 0.9):\n",
    "    batteriePleine = pd.Series(cap_batterie, index=bale[period].index) \n",
    "    stockage = pd.Series(0, index=bale[period].index) \n",
    "    manque = pd.Series(0, index=bale[period].index)   # manque  : > 0 si reseau > maison, <= 0 sinon\n",
    "    stockagePre = 0.0\n",
    "    for p in bale[period].index:\n",
    "        m=  bale[period].index == p\n",
    "        transfert = 0 # > 0 si maison -> batterie, <= 0 sinon\n",
    "        if besoin[m].values[0] > 0:\n",
    "            manque[m] = max(-stockagePre*rendement+besoin[m].values[0],0)\n",
    "            stockage[m] = max(stockagePre-besoin[m].values[0]/rendement,0)\n",
    "        elif besoin[m].values[0] < 0 and (-besoin[m].values[0] > cap_batterie - stockagePre):\n",
    "                stockage[m]=cap_batterie\n",
    "                manque[m] = cap_batterie - stockagePre -(-besoin[m].values[0]) # < 0 \n",
    "        elif besoin[m].values[0] < 0 and (-besoin[m].values[0] < cap_batterie - stockagePre):\n",
    "                manque[m] = 0\n",
    "                stockage[m] = -besoin[m].values[0] + stockagePre\n",
    "        h = p.hour\n",
    "        if (h == 16 or h == 6) and (stockage[m].values[0] < cap_batterie*coeff):\n",
    "            manque[m] += cap_batterie*coeff - stockage[m].values[0] \n",
    "            stockage[m] = cap_batterie*coeff \n",
    "        stockagePre = stockage[m].values[0]\n",
    "\n",
    "    return [manque, stockage]\n",
    "\n",
    "def Anticipation(besoin,cap_batterie, period, rendement = 0.9):\n",
    "# calcul ce dont il faut acheter pour subvenir aux besoins futurs de la HP\n",
    "    [manque, stockage] = BatterieNormale(besoin, cap_batterie, period, rendement)\n",
    "    return manque[manque > 0 ].sum()\n",
    "    \n",
    "def BatterieAchatOptimal(besoin, cap_batterie, period, rendement = 0.9):\n",
    "    batteriePleine = pd.Series(cap_batterie, index=bale[period].index) \n",
    "    stockage = pd.Series(0, index=bale[period].index) \n",
    "    manque = pd.Series(0, index=bale[period].index)   # manque  : > 0 si reseau > maison, <= 0 sinon\n",
    "    stockagePre = 0.0\n",
    "    for p in bale[period].index:\n",
    "        m=  bale[period].index == p\n",
    "        transfert = 0 # > 0 si maison -> batterie, <= 0 sinon\n",
    "        if besoin[m].values[0] > 0:\n",
    "            manque[m] = max(-stockagePre*rendement+besoin[m].values[0],0)\n",
    "            stockage[m] = max(stockagePre-besoin[m].values[0]/rendement,0)\n",
    "        elif besoin[m].values[0] < 0 and (-besoin[m].values[0] > cap_batterie - stockagePre):\n",
    "                stockage[m]=cap_batterie\n",
    "                manque[m] = cap_batterie - stockagePre -(-besoin[m].values[0]) # < 0 \n",
    "        elif besoin[m].values[0] < 0 and (-besoin[m].values[0] < cap_batterie - stockagePre):\n",
    "                manque[m] = 0\n",
    "                stockage[m] = -besoin[m].values[0] + stockagePre\n",
    "        h = p.hour\n",
    "        if (h == 16):\n",
    "            periodHP = period & (bale.index >= (p + pd.DateOffset(hours=1)))\n",
    "            periodHP &= bale.index <= (p + pd.DateOffset(hours=10))\n",
    "            besoinHP = Anticipation(besoin[periodHP],cap_batterie, periodHP)\n",
    "            if (besoinHP > stockage[m].values[0] ):\n",
    "                manque[m] += min(besoinHP, cap_batterie) - stockage[m].values[0] \n",
    "                stockage[m] += min(besoinHP, cap_batterie)\n",
    "        if (h == 6):\n",
    "            periodHP = period & (bale.index >= (p + pd.DateOffset(hours=1)))\n",
    "            periodHP &= bale.index <= (p + pd.DateOffset(hours=8))\n",
    "            besoinHP = Anticipation(besoin[periodHP],cap_batterie, periodHP)\n",
    "            if (besoinHP > stockage[m].values[0] ):\n",
    "                manque[m] += min(besoinHP, cap_batterie) - stockage[m].values[0] \n",
    "                stockage[m] = min(besoinHP, cap_batterie)\n",
    "\n",
    "        stockagePre = stockage[m].values[0]\n",
    "\n",
    "    return [manque, stockage]"
   ]
  },
  {
   "cell_type": "markdown",
   "metadata": {},
   "source": [
    "## Besoin, manque et stockage sur une journée"
   ]
  },
  {
   "cell_type": "code",
   "execution_count": 7,
   "metadata": {
    "collapsed": false
   },
   "outputs": [
    {
     "name": "stdout",
     "output_type": "stream",
     "text": [
      "1.72972966991\n"
     ]
    }
   ],
   "source": [
    "plt.figure()\n",
    "period = (bale.index.month <= 1)\n",
    "cap_batterie = 7\n",
    "besoin = (bale['consommation'] - bale['prod-eol'])[period]\n",
    "speriod = (besoin.index.month == 1) & (besoin.index.day == 5)\n",
    "[manque, stockage] = BatterieNormale(besoin,  cap_batterie, period)\n",
    "besoin[speriod].plot(label=\"Besoin\")\n",
    "manque[speriod].plot(label=\"Manque\")\n",
    "stockage[speriod].plot(label=\"Stockage\")\n",
    "plt.legend(bbox_to_anchor=(0., 1.02, 1., .102), loc=3,\n",
    "           ncol=3, mode=\"expand\", borderaxespad=0.)\n",
    "ax = plt.gca()\n",
    "ax.grid(True, which='both')\n",
    "plt.xlabel(\"Temps\")\n",
    "plt.ylabel(\"kWh\")\n",
    "print besoin[speriod].mean()"
   ]
  },
  {
   "cell_type": "code",
   "execution_count": 8,
   "metadata": {
    "collapsed": false
   },
   "outputs": [],
   "source": [
    "plt.figure()\n",
    "bale['consommation'][period].cumsum().plot(label=\"Consommation\")\n",
    "bale['prod-pv'][period].cumsum().plot(label=\"Photovoltaïque\")\n",
    "bale['prod-eol'][period].cumsum().plot(label=\"Eolien\")\n",
    "plt.legend(bbox_to_anchor=(0., 1.02, 1., .102), loc=3,\n",
    "           ncol=3, mode=\"expand\", borderaxespad=0.)\n",
    "\n",
    "plt.xlabel(\"Temps\")\n",
    "plt.ylabel(\"kWh\")\n",
    "ax = plt.gca()\n",
    "ax.yaxis.grid()\n",
    "plt.show()"
   ]
  },
  {
   "cell_type": "markdown",
   "metadata": {},
   "source": [
    "## Influence du coefficient de remplissage"
   ]
  },
  {
   "cell_type": "code",
   "execution_count": 9,
   "metadata": {
    "collapsed": false
   },
   "outputs": [
    {
     "name": "stdout",
     "output_type": "stream",
     "text": [
      "0.0\n",
      "0.2\n",
      "0.4\n",
      "0.6\n",
      "0.8\n",
      "1.0\n",
      "0.0\n",
      "0.2\n",
      "0.4\n",
      "0.6\n",
      "0.8\n",
      "1.0\n"
     ]
    }
   ],
   "source": [
    "period = (bale.index.year == 2013)\n",
    "cap_batterie = 14\n",
    "coeff = np.arange(0, 1.1, 0.2)\n",
    "\n",
    "besoin = (bale['consommation'] - bale['prod-pv'])[period]\n",
    "coeff_pv = []\n",
    "for i in coeff:\n",
    "    print i\n",
    "    [manque, stockage] = BatterieAchat(besoin, cap_batterie, period, i)\n",
    "    coeff_pv.append(Depense(manque,prix_pv)[-1])\n",
    "    \n",
    "besoin = (bale['consommation'] - bale['prod-eol'])[period]\n",
    "coeff_eol = []\n",
    "for i in coeff:\n",
    "    print i\n",
    "    [manque, stockage] = BatterieAchat(besoin, cap_batterie, period, i)\n",
    "    coeff_eol.append(Depense(manque,prix_eolien)[-1])\n"
   ]
  },
  {
   "cell_type": "code",
   "execution_count": 10,
   "metadata": {
    "collapsed": false
   },
   "outputs": [],
   "source": [
    "plt.figure()\n",
    "plt.plot(coeff, coeff_pv/max(coeff_pv), label=\"Photovoltaique\")\n",
    "plt.plot(coeff, coeff_eol/max(coeff_eol), label=\"Eolien\")\n",
    "plt.legend(bbox_to_anchor=(0., 1.02, 1., .102), loc=3,\n",
    "           ncol=2, mode=\"expand\", borderaxespad=0.)\n",
    "ax = plt.gca()\n",
    "plt.xlabel(\"Coefficient de remplissage\")\n",
    "plt.ylabel(\"Facture normalisée\")\n",
    "ax.yaxis.grid()"
   ]
  },
  {
   "cell_type": "markdown",
   "metadata": {},
   "source": [
    "## Facture avec le photovoltaïque"
   ]
  },
  {
   "cell_type": "code",
   "execution_count": 7,
   "metadata": {
    "collapsed": false
   },
   "outputs": [],
   "source": [
    "# period = (bale.index.month == 1) & (bale.index.day == 1)\n",
    "period = (bale.index.year == 2013)\n",
    "cap_batterie = 14\n",
    "besoin = (bale['consommation'] - bale['prod-pv'])[period]\n",
    "pv = {}\n",
    "# 1. en vendant systematiquement notre production de photovoltaique\n",
    "pv['Vente'] = Vente(bale['consommation'], bale['prod-pv'], period, prix_pv)\n",
    "\n",
    "# 2. On consomme notre production de photovoltaique et on vend ce qu'on ne consomme pas\n",
    "pv[\"Consommation\"] = Consommation(bale['consommation'], bale['prod-pv'], period, prix_pv)\n",
    "\n",
    "# 3. On stocke et on n'utilise notre production qu'aux HP\n",
    "[manqueNormal, stockageN] = BatterieNormale(besoin,  cap_batterie, period)\n",
    "pv[\"Normal\"] = Depense(manqueNormal,prix_pv)\n",
    "\n",
    "# 4. On remplit la batterie en fin de HC\n",
    "[manqueAchat, stockageAchat] = BatterieAchat(besoin, cap_batterie, period, 1.0)\n",
    "pv[\"Achat\"] = Depense(manqueAchat, prix_pv)\n",
    "\n",
    "# 5. On remplit la batterie en fin de HC en prévoyant notre besoin futur\n",
    "[manqueOpt, stockageOpt] = BatterieAchatOptimal(besoin, cap_batterie, period)\n",
    "pv[\"Optimal\"] = Depense(manqueOpt, prix_pv)\n"
   ]
  },
  {
   "cell_type": "code",
   "execution_count": 13,
   "metadata": {
    "collapsed": false
   },
   "outputs": [
    {
     "name": "stdout",
     "output_type": "stream",
     "text": [
      "1228.27360155\n",
      "1349.32792527\n",
      "1317.36954639\n",
      "1382.54764122\n",
      "1580.19133607\n"
     ]
    }
   ],
   "source": [
    "plt.figure()\n",
    "for name in pv:\n",
    "    pv[name].plot(label=name)\n",
    "    print pv[name][-1]\n",
    "# plt.title(\"Comparaison des lois de consommation en photovoltaïque\")\n",
    "plt.legend(bbox_to_anchor=(0., 1.02, 1., .102), loc=3,\n",
    "           ncol=3, mode=\"expand\", borderaxespad=0.)\n",
    "ax = plt.gca()\n",
    "plt.xlabel(\"Temps\")\n",
    "plt.ylabel(\"Facture (€)\")\n",
    "ax.yaxis.grid()\n",
    "plt.show()"
   ]
  },
  {
   "cell_type": "code",
   "execution_count": 9,
   "metadata": {
    "collapsed": false
   },
   "outputs": [],
   "source": [
    "plt.figure()\n",
    "period = bale.index.year == 2013\n",
    "cap_batterie = 14\n",
    "bale['consommation'][period].cumsum().plot(label=\"Consommation\")\n",
    "bale['prod-pv'][period].cumsum().plot(label=\"Photovoltaïque\")\n",
    "bale['prod-eol'][period].cumsum().plot(label=\"Eolien\")\n",
    "plt.legend(bbox_to_anchor=(0., 1.02, 1., .102), loc=3,\n",
    "           ncol=3, mode=\"expand\", borderaxespad=0.)\n",
    "plt.xlabel(\"Temps\")\n",
    "plt.ylabel(\"kWh\")\n",
    "ax = plt.gca()\n",
    "ax.yaxis.grid()"
   ]
  },
  {
   "cell_type": "markdown",
   "metadata": {},
   "source": [
    "## Facture avec l'éolien"
   ]
  },
  {
   "cell_type": "code",
   "execution_count": 10,
   "metadata": {
    "collapsed": false
   },
   "outputs": [],
   "source": [
    "# period = (bale.index.month == 1)# & (bale.index.day == 1)\n",
    "period = (bale.index.year == 2013)\n",
    "cap_batterie = 14\n",
    "besoin = (bale['consommation'] - bale['prod-eol'])[period]\n",
    "eol_dep = {}\n",
    "\n",
    "# 1. en vendant systematiquement notre production de photovoltaique\n",
    "eol_dep[\"Vente\"] = Vente(bale['consommation'], bale['prod-eol'], period, prix_eolien)\n",
    "\n",
    "# 2. On consomme notre production de photovoltaique et on vend ce qu'on ne consomme pas\n",
    "eol_dep[\"Consommation\"] = Consommation(bale['consommation'], bale['prod-eol'], period, prix_eolien)\n",
    "\n",
    "# 3. On stocke et on n'utilise notre production qu'aux HP\n",
    "[manqueNormal, stockageN] = BatterieNormale(besoin,  cap_batterie, period)\n",
    "eol_dep[\"Normal\"] = Depense(manqueNormal,prix_eolien)\n",
    "\n",
    "# 4. On remplit la batterie en fin de HC\n",
    "[manqueAchat, stockageAchat] = BatterieAchat(besoin, cap_batterie, period, 1.0)\n",
    "eol_dep[\"Achat\"] = Depense(manqueAchat, prix_eolien)\n",
    "\n",
    "# 5. On remplit la batterie en fin de HC en prévoyant notre besoin futur\n",
    "[manqueOpt, stockageOpt] = BatterieAchatOptimal(besoin, cap_batterie, period)\n",
    "eol_dep[\"Optimal\"] = Depense(manqueOpt, prix_eolien)"
   ]
  },
  {
   "cell_type": "code",
   "execution_count": 15,
   "metadata": {
    "collapsed": false
   },
   "outputs": [
    {
     "name": "stdout",
     "output_type": "stream",
     "text": [
      "37.6286563575\n",
      "142.495777793\n",
      "151.621697037\n",
      "282.741601979\n",
      "877.564102391\n"
     ]
    }
   ],
   "source": [
    "plt.figure()\n",
    "for name in eol_dep:\n",
    "    eol_dep[name].plot(label=name)\n",
    "    print eol_dep[name][-1]\n",
    "    \n",
    "\n",
    "# plt.title(\"Comparaison des lois de consommation en éolien\")\n",
    "plt.legend(bbox_to_anchor=(0., 1.02, 1., .102), loc=3,\n",
    "           ncol=3, mode=\"expand\", borderaxespad=0.)\n",
    "ax = plt.gca()\n",
    "plt.xlabel(\"Temps\")\n",
    "plt.ylabel(\"Facture (€)\")\n",
    "ax.yaxis.grid()"
   ]
  },
  {
   "cell_type": "markdown",
   "metadata": {},
   "source": [
    "## Quelle batterie faut-il ?"
   ]
  },
  {
   "cell_type": "code",
   "execution_count": 16,
   "metadata": {
    "collapsed": false
   },
   "outputs": [],
   "source": [
    "batteries = range(2,20,2)#[7,10,14]\n",
    "period = (bale.index.year == 2013)\n",
    "cap_batterie = 14\n",
    "\n",
    "\n",
    "# en photovoltaique\n",
    "pv_batt = {}\n",
    "besoin = (bale['consommation'] - bale['prod-pv'])[period]\n",
    "for b in batteries:\n",
    "    [manqueOpt, stockageOpt] = BatterieAchatOptimal(besoin, b, period)\n",
    "    pv_batt[b] = Depense(manqueOpt, prix_pv)[-1]\n",
    "\n",
    "\n",
    "# en eolien\n",
    "eol_batt = {}\n",
    "besoin = (bale['consommation'] - bale['prod-eol'])[period]\n",
    "for b in batteries:\n",
    "    [manqueOpt, stockageOpt] = BatterieAchatOptimal(besoin, b, period)\n",
    "    eol_batt[b] = Depense(manqueOpt, prix_eolien)[-1]\n",
    "\n",
    "\n",
    "# sans production\n",
    "noprod_batt = {}\n",
    "besoin = bale['consommation'][period]\n",
    "for b in batteries:\n",
    "    [manqueOpt, stockageOpt] = BatterieAchatOptimal(besoin, b, period)\n",
    "    noprod_batt[b] = Depense(manqueOpt, 0)[-1]"
   ]
  },
  {
   "cell_type": "code",
   "execution_count": 19,
   "metadata": {
    "collapsed": false
   },
   "outputs": [],
   "source": [
    "plt.figure()\n",
    "plt.plot(batteries, pv_batt.values()/max(pv_batt.values()), label=\"Photovoltaïque\")\n",
    "max_eol = np.max(np.abs(np.array(eol_batt.values())))\n",
    "eol = (2*max_eol+ np.array(eol_batt.values()))\n",
    "eol = eol/max(eol)\n",
    "plt.plot(batteries,eol, label=\"Eolien\")\n",
    "plt.plot(batteries, noprod_batt.values()/max(noprod_batt.values()), label=\"Sans production\")\n",
    "\n",
    "plt.legend(bbox_to_anchor=(0., 1.02, 1., .102), loc=3,\n",
    "           ncol=3, mode=\"expand\", borderaxespad=0.)\n",
    "ax = plt.gca()\n",
    "plt.xlabel(\"Capacité de batterie\")\n",
    "plt.ylabel(\"Facture normalisée\")\n",
    "ax.yaxis.grid()"
   ]
  },
  {
   "cell_type": "code",
   "execution_count": 7,
   "metadata": {
    "collapsed": false
   },
   "outputs": [
    {
     "name": "stdout",
     "output_type": "stream",
     "text": [
      "8761\n",
      "8761\n",
      "                                                    time  consommation  \\\n",
      "date                                                                     \n",
      "2015-10-25 02:00:00  25.10.2015 02:00 - 25.10.2015 03:00    436.566993   \n",
      "\n",
      "                     Inflation     depense  \n",
      "date                                        \n",
      "2015-10-25 02:00:00    1.07415  436.566993  \n"
     ]
    }
   ],
   "source": [
    "## "
   ]
  }
 ],
 "metadata": {
  "kernelspec": {
   "display_name": "Python 2",
   "language": "python",
   "name": "python2"
  },
  "language_info": {
   "codemirror_mode": {
    "name": "ipython",
    "version": 2
   },
   "file_extension": ".py",
   "mimetype": "text/x-python",
   "name": "python",
   "nbconvert_exporter": "python",
   "pygments_lexer": "ipython2",
   "version": "2.7.10"
  }
 },
 "nbformat": 4,
 "nbformat_minor": 1
}
