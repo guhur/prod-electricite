{
 "cells": [
  {
   "cell_type": "markdown",
   "metadata": {},
   "source": [
    "# Modélisation de la consommation et de la production d'un foyer équipé d'un photovoltaique, d'une éolienne et d'une batterie\n",
    "\n",
    "Ce notebook permet de reproduire les expériences du papier :\n",
    "\n",
    "TODO:\n",
    "- inclure le temps de calcul\n",
    "- IoT peut foncitonner en temps reel mais limitation par la resolution des donnees obtenues\n",
    "  entrainement a faire sur un ordi\n",
    "  \n",
    "https://www.meteoblue.com/fr/historyplus\n",
    "    \n",
    " \n",
    "## Estimation de la consommation\n",
    "On estime que le foyer a une consommation électrique annuelle de 20000 kWh[1]. Les données proviennent du gouvernement français[2]. Les heures creuses/pleines sont prises pour Cachan.\n",
    "\n",
    "[1] http://www.monenergie.net/consommation-moyenne-d-electricite-d-une-maison.php \"Consommation moyenne d'une maison\"\n",
    "\n",
    "[2] https://www.data.gouv.fr/fr/datasets/bilan-electrique-au-pas-demi-heure/ \"Dataset de consommation\"\n",
    "\n",
    "## Prix de l'électricité\n",
    "http://www.kelwatt.fr/guide/prix-par-mois#base\n",
    "\n",
    "http://www.jechange.fr/energie/electricite/guides/prix-electricite-kwh-2435\n",
    "- Abonnement annuel : 117,50 €\n",
    "- Evolution des prix sur 2013 en suivant l'historique de :\n",
    "http://www.kelwatt.fr/prix/tarif-bleu-edf#trouver-moins-cher-tarif-bleu\n",
    "- prix du kWh: (heures pleines, heures creuses) = 0.129, 0.105\n",
    "\n",
    "\n",
    "Rachat du photovoltaïque :\n",
    "- Intégration au bâti :\n",
    "    0-9 kWc = 24,29 cts€/kWh (24,64 cts€/kWh le trimestre précédent)\n",
    "- Intégration simplifiée au bâti :\n",
    "    0-36 kW = 12,72 cts€/kWh (13,27 cts€/kWh le trimestre précédent)\n",
    "    36-100 kW = 12,13 cts€/kWh (12,62 cts€/kWh le trimestre précédent)\n",
    "- Sans intégration, ou hors critères ci-dessus, ou au sol:\n",
    "    5,65 c€/kWh (5,96 cts€/kwh le trimestre précédent)\n",
    "\n",
    "Rachat de l'éolien :\n",
    "- http://www.developpement-durable.gouv.fr/Les-tarifs-d-achat-de-l,12195.html\n",
    "- prix: 8.2cEUR/kWh\n",
    "\n",
    "## Initialisation 1/2"
   ]
  },
  {
   "cell_type": "code",
   "execution_count": 14,
   "metadata": {
    "collapsed": false
   },
   "outputs": [
    {
     "name": "stdout",
     "output_type": "stream",
     "text": [
      "Temps d'exécution de la prédiction : 0.557100 \n",
      "Temps d'exécution de la prédiction : 0.393224 \n"
     ]
    }
   ],
   "source": [
    "from mpl_toolkits.axes_grid1.parasite_axes import host_subplot\n",
    "from mpl_toolkits.axisartist.axislines import Axes\n",
    "from scipy.sparse.csr import csr_matrix\n",
    "\n",
    "from sklearn import datasets\n",
    "from sklearn.utils import shuffle\n",
    "from sklearn.metrics import mean_squared_error\n",
    "from sklearn.svm.classes import NuSVR\n",
    "from sklearn.ensemble.gradient_boosting import GradientBoostingRegressor\n",
    "from sklearn.linear_model.stochastic_gradient import SGDClassifier\n",
    "from sklearn.metrics import hamming_loss\n",
    "\n",
    "\n",
    "\n",
    "import locale, time\n",
    "locale.setlocale(locale.LC_TIME, \"fr_FR\".encode('ascii'))\n",
    "import numpy as np\n",
    "import pandas as pd\n",
    "import matplotlib.pyplot as plt\n",
    "import matplotlib\n",
    "from matplotlib import rc\n",
    "# from __future__ import unicode_literals\n",
    "import numpy as np\n",
    "import matplotlib\n",
    "matplotlib.rcParams['text.usetex'] = True\n",
    "matplotlib.rcParams['text.latex.unicode'] = True\n",
    "rc('font',**{'family':'serif','serif':['Times']})\n",
    "\n",
    "%matplotlib osx\n",
    "\n",
    "\n",
    "\n",
    "# données météo \n",
    "bale=pd.read_csv('dataset/history_export_2016-12-03T18-03-27.csv', sep=\";\", skiprows=11)\n",
    "bale[\"date\"]=pd.to_datetime({\n",
    "        'year': bale[\"Year\"],\n",
    "        'month': bale[\"Month\"],\n",
    "        'day': bale[\"Day\"],\n",
    "        'hour': bale[\"Hour\"],\n",
    "                    })\n",
    "bale = bale.set_index(['date'])\n",
    "bale[\"radiation\"] = bale[\"Shortwave Radiation - backwards\"]/1000\n",
    "\n",
    "\n",
    "\n",
    "# données de consommation\n",
    "df_14=pd.read_csv('dataset/conso_bale_2014.csv', sep=\",\") # attention les données de 2014 sont moins fiables : toute la Suisse\n",
    "df_14['kWh']/=df_14['kWh'].sum()\n",
    "df_15=pd.read_csv('dataset/conso_bale_2015.csv', sep=\",\")\n",
    "df_15['kWh']/=df_15['kWh'].sum()\n",
    "df_16=pd.read_csv('dataset/conso_bale_2016.csv', sep=\",\")\n",
    "df_16['kWh']/=df_16['kWh'].sum()\n",
    "df = pd.concat([df_14, df_15, df_16])\n",
    "df[\"date\"]=pd.to_datetime(df[\"date\"])\n",
    "df = df.set_index(['date'])\n",
    "consoPerso = 20000 # consommation annuelle kWh d'un foyer\n",
    "# 20000 pour un foyer : http://www.monenergie.net/consommation-moyenne-d-electricite-d-une-maison.php\n",
    "df['kWh']*=consoPerso\n",
    "df['kWh'].loc[df.index.year == 2016]*=float(len(df[df.index.year == 2016]))/len(df[df.index.year == 2015])\n",
    "df = df.resample('60T').sum()\n",
    "df = df[~df.index.duplicated()] # resoud les passages aux heures d'hiver et d'ete\n",
    "df = df.fillna(method='ffill')\n",
    "bale[\"consommation\"] =  df[\"kWh\"]\n",
    "\n",
    "# Index (intersection of df and bale)\n",
    "bale = bale.reindex(bale.index.intersection(df.index))\n",
    "hour = bale.index.hour\n",
    "month = bale.index.month\n",
    "HC = ((hour >= 2) & (hour < 7)) | ((hour >= 14) & (hour < 17))\n",
    "HP =  ((hour >= 7) & (hour < 14)) | (hour >= 17) | (hour < 2)\n",
    "\n",
    "# prix_achat = np.array([0.129, 0.105])\n",
    "prix_achat = np.array([0.15600,0.12700 ])\n",
    "# evolution = np.array([2.3, 0, 0, 0 ,0 ,0, 0, 5, 0,0,0,0])\n",
    "# evolution = np.array([1/3, 1, 1, 1, 1, 1,   1,1,1,1/2.5,1, \\\n",
    "#                      1, 1, 1, ,1,1,1   1/2.5,1,1,1,1,1, \\\n",
    "#                      1, 1, 1, ,1,1,1   -1/.5,1,1,1,1,1])\n",
    "# inflation = (1+evolution/100).cumprod()\n",
    "bale[\"inflation\"] = pd.Series(1, df.index)\n",
    "# df[\"Inflation\"].loc[(df.index.day == 1) & (df.index.hour == 0)] = inflation\n",
    "# df[\"Inflation\"] = df[\"Inflation\"].fillna(method='ffill')\n",
    "abonnement = 117.5\n",
    "abonnement_heure = abonnement/365.25/24\n",
    "prix_hc = prix_achat[1]* bale[\"inflation\"] +abonnement_heure\n",
    "prix_hp = prix_achat[0]* bale[\"inflation\"] +abonnement_heure\n",
    "prix = prix_hp\n",
    "prix.loc[(hour >= 2) & (hour < 7)] = prix_hc[(hour >= 2) & (hour < 7)]\n",
    "prix.loc[(hour >= 14) & (hour < 17)] = prix_hc[(hour >= 14) & (hour < 17)]\n",
    "bale[\"depense\"] = bale[\"consommation\"].copy()\n",
    "bale[\"depense\"].loc[HC] *= prix_hc\n",
    "bale[\"depense\"].loc[HP] *= prix_hp\n",
    "prix_pv = 0.1272 - abonnement_heure\n",
    "prix_eolien = 0.082 - abonnement_heure \n",
    "\n",
    "\n",
    "\n",
    "def prediction(X_train, y_train, X_test, y_test = 0):\n",
    "    data = {'X_train': X_train, 'X_test': X_test, 'y_train': y_train,\n",
    "            'y_test': y_test}\n",
    "\n",
    "    conf = {'estimator': GradientBoostingRegressor,\n",
    "         'tuned_params': {'loss': 'ls'},\n",
    "         'changing_param': 'n_estimators',\n",
    "         'changing_param_value': 3000,\n",
    "         'complexity_label': 'n_trees',\n",
    "         'complexity_computer': lambda x: x.n_estimators,\n",
    "         'data': data,\n",
    "         'postfit_hook': lambda x: x,\n",
    "         'prediction_performance_computer': mean_squared_error,\n",
    "         'prediction_performance_label': 'MSE'\n",
    "        }\n",
    "\n",
    "    conf['tuned_params'][conf['changing_param']] = conf['changing_param_value']\n",
    "    estimator = conf['estimator'](**conf['tuned_params'])\n",
    "    estimator.fit(conf['data']['X_train'], conf['data']['y_train'])\n",
    "    conf['postfit_hook'](estimator)\n",
    "    start_time = time.time()\n",
    "    y_pred = estimator.predict(conf['data']['X_test'])\n",
    "    print \"Temps d'exécution de la prédiction : %f \" % (time.time() - start_time)\n",
    "    pred_score = 0\n",
    "    if y_test != 0:\n",
    "        pred_score = conf['prediction_performance_computer'](\n",
    "            conf['data']['y_test'], y_pred)\n",
    "    return [y_pred, pred_score]\n",
    "\n",
    "def Depense(manque, rachat=prix_eolien):\n",
    "    depense = pd.Series(0, index=manque.index)\n",
    "    depense[manque.values < 0] += manque[manque.values < 0]*rachat\n",
    "    depense[(manque.values > 0)] += manque[(manque.values > 0)]*prix\n",
    "    return depense.cumsum()\n",
    "\n",
    "# test:\n",
    "# manque = pd.Series(np.random.rand(len(bale.index)), index=bale.index)\n",
    "# Depense(manque,(bale.index.year == 2016)).plot()\n",
    "\n",
    "\n",
    "###########\n",
    "# Prédiction de la consommation\n",
    "# On prédit 2016 selon 2015 et 2015 selon 2014 (attention données peu fiables sur 2014)\n",
    "\n",
    "a2014 = (bale.index.year == 2014) \n",
    "a2015 = (bale.index.year == 2015) \n",
    "a2016 = (bale.index.year == 2016)\n",
    "\n",
    "view = bale[['Temperature', \"Shortwave Radiation - backwards\", 'Wind Gust', 'Wind speed', \\\n",
    "             'Relative humidity', 'Mean Sea Level Pressure', 'Total Precipitation', \\\n",
    "             'Snowfall amount', 'Total cloud cover', 'High cloud cover', \\\n",
    "            'Low cloud cover', 'Shortwave Radiation - backwards', 'Wind speed', 'Wind direction', 'Hour']]\n",
    "\n",
    "bale[\"prediction\"] = pd.Series(np.nan, index=bale.index)\n",
    "[bale[\"prediction\"].loc[a2015], _] = prediction(view[a2014], bale[\"consommation\"][a2014], view[a2015])\n",
    "[bale[\"prediction\"].loc[a2016], _] = prediction(view[a2015], bale[\"consommation\"][a2015], view[a2016])\n"
   ]
  },
  {
   "cell_type": "code",
   "execution_count": 16,
   "metadata": {
    "collapsed": false
   },
   "outputs": [],
   "source": [
    "plt.figure()\n",
    "period = a2016 & (month == 4) & (bale.index.day == 10)\n",
    "bale[\"prediction\"][period].plot(label=\"Prédiction\")\n",
    "bale[\"consommation\"][period].plot(label=\"Consommation\")\n",
    "bale[\"prod-eol\"][period].plot(label=\"Eolien\")\n",
    "bale[\"prod-pv\"][period].plot(label=\"Photovoltaïque\")\n",
    "\n",
    "plt.legend(bbox_to_anchor=(0., 1.02, 1., .102), loc=3,\n",
    "           ncol=2, mode=\"expand\", borderaxespad=0.)\n",
    "ax = plt.gca()\n",
    "ax.grid(True, which='both')\n",
    "plt.xlabel(\"Temps\")\n",
    "plt.ylabel(\"kWh\")\n",
    "plt.show() "
   ]
  },
  {
   "cell_type": "markdown",
   "metadata": {},
   "source": [
    "# Initialisation 2/2\n",
    "## Production d'électricité photovoltaïque et éolienne\n",
    "Thèse O. Gergaud, modèle polynomial\n",
    "$P_{G,max} = P_1\\left[ 1 + P_2 (T - T_{ref}) \\right] (P_3 + E_s)$\n",
    "avec :\n",
    "- $P_1 = 0.99$ (ou 0.099 pour un panneau)\n",
    "- $P_2 = -4.7e^{-3} K^{-1}$ dérive en température\n",
    "- $P_3 = 45$\n",
    "- $T_{ref} = 24°C$\n",
    "- $E_s$ ensoleillement dans le plan de panneaux (W/m^2)\n",
    "\n",
    "Eolienne considérée :\n",
    "- http://www.fw4sea.com/produits-fr/fiches-techniques/80-fiches-techniques-fr/88-f180-50"
   ]
  },
  {
   "cell_type": "code",
   "execution_count": 15,
   "metadata": {
    "collapsed": false
   },
   "outputs": [
    {
     "ename": "UnicodeDecodeError",
     "evalue": "'ascii' codec can't decode byte 0xc3 in position 4: ordinal not in range(128)",
     "output_type": "error",
     "traceback": [
      "\u001b[0;31m---------------------------------------------------------------------------\u001b[0m",
      "\u001b[0;31mUnicodeDecodeError\u001b[0m                        Traceback (most recent call last)",
      "\u001b[0;32m<ipython-input-15-e5a496c2a318>\u001b[0m in \u001b[0;36m<module>\u001b[0;34m()\u001b[0m\n\u001b[1;32m     32\u001b[0m \u001b[0max\u001b[0m \u001b[0;34m=\u001b[0m \u001b[0mplt\u001b[0m\u001b[0;34m.\u001b[0m\u001b[0mgca\u001b[0m\u001b[0;34m(\u001b[0m\u001b[0;34m)\u001b[0m\u001b[0;34m\u001b[0m\u001b[0m\n\u001b[1;32m     33\u001b[0m \u001b[0max\u001b[0m\u001b[0;34m.\u001b[0m\u001b[0myaxis\u001b[0m\u001b[0;34m.\u001b[0m\u001b[0mgrid\u001b[0m\u001b[0;34m(\u001b[0m\u001b[0;34m)\u001b[0m\u001b[0;34m\u001b[0m\u001b[0m\n\u001b[0;32m---> 34\u001b[0;31m \u001b[0mplt\u001b[0m\u001b[0;34m.\u001b[0m\u001b[0mxlabel\u001b[0m\u001b[0;34m(\u001b[0m\u001b[0mbale\u001b[0m\u001b[0;34m[\u001b[0m\u001b[0mperiod\u001b[0m\u001b[0;34m]\u001b[0m\u001b[0;34m.\u001b[0m\u001b[0mindex\u001b[0m\u001b[0;34m[\u001b[0m\u001b[0;36m0\u001b[0m\u001b[0;34m]\u001b[0m\u001b[0;34m.\u001b[0m\u001b[0mstrftime\u001b[0m\u001b[0;34m(\u001b[0m\u001b[0;34m\"%d %b %Y\"\u001b[0m\u001b[0;34m)\u001b[0m\u001b[0;34m)\u001b[0m\u001b[0;34m\u001b[0m\u001b[0m\n\u001b[0m\u001b[1;32m     35\u001b[0m \u001b[0mplt\u001b[0m\u001b[0;34m.\u001b[0m\u001b[0mylabel\u001b[0m\u001b[0;34m(\u001b[0m\u001b[0;34m\"kWh\"\u001b[0m\u001b[0;34m)\u001b[0m\u001b[0;34m\u001b[0m\u001b[0m\n\u001b[1;32m     36\u001b[0m \u001b[0mticklabels\u001b[0m \u001b[0;34m=\u001b[0m \u001b[0;34m[\u001b[0m\u001b[0;34m''\u001b[0m\u001b[0;34m]\u001b[0m\u001b[0;34m*\u001b[0m\u001b[0mlen\u001b[0m\u001b[0;34m(\u001b[0m \u001b[0mbale\u001b[0m\u001b[0;34m[\u001b[0m\u001b[0mperiod\u001b[0m\u001b[0;34m]\u001b[0m\u001b[0;34m.\u001b[0m\u001b[0mindex\u001b[0m\u001b[0;34m)\u001b[0m\u001b[0;34m\u001b[0m\u001b[0m\n",
      "\u001b[0;32m/Users/pierre-louis/Library/Python/2.7/lib/python/site-packages/matplotlib/pyplot.pyc\u001b[0m in \u001b[0;36mxlabel\u001b[0;34m(s, *args, **kwargs)\u001b[0m\n\u001b[1;32m   1535\u001b[0m             \u001b[0mFor\u001b[0m \u001b[0minformation\u001b[0m \u001b[0mon\u001b[0m \u001b[0mhow\u001b[0m \u001b[0moverride\u001b[0m \u001b[0;32mand\u001b[0m \u001b[0mthe\u001b[0m \u001b[0moptional\u001b[0m \u001b[0margs\u001b[0m \u001b[0mwork\u001b[0m\u001b[0;34m\u001b[0m\u001b[0m\n\u001b[1;32m   1536\u001b[0m     \"\"\"\n\u001b[0;32m-> 1537\u001b[0;31m     \u001b[0;32mreturn\u001b[0m \u001b[0mgca\u001b[0m\u001b[0;34m(\u001b[0m\u001b[0;34m)\u001b[0m\u001b[0;34m.\u001b[0m\u001b[0mset_xlabel\u001b[0m\u001b[0;34m(\u001b[0m\u001b[0ms\u001b[0m\u001b[0;34m,\u001b[0m \u001b[0;34m*\u001b[0m\u001b[0margs\u001b[0m\u001b[0;34m,\u001b[0m \u001b[0;34m**\u001b[0m\u001b[0mkwargs\u001b[0m\u001b[0;34m)\u001b[0m\u001b[0;34m\u001b[0m\u001b[0m\n\u001b[0m\u001b[1;32m   1538\u001b[0m \u001b[0;34m\u001b[0m\u001b[0m\n\u001b[1;32m   1539\u001b[0m \u001b[0;34m\u001b[0m\u001b[0m\n",
      "\u001b[0;32m/Users/pierre-louis/Library/Python/2.7/lib/python/site-packages/matplotlib/axes/_axes.pyc\u001b[0m in \u001b[0;36mset_xlabel\u001b[0;34m(self, xlabel, fontdict, labelpad, **kwargs)\u001b[0m\n\u001b[1;32m    219\u001b[0m         \u001b[0;32mif\u001b[0m \u001b[0mlabelpad\u001b[0m \u001b[0;32mis\u001b[0m \u001b[0;32mnot\u001b[0m \u001b[0mNone\u001b[0m\u001b[0;34m:\u001b[0m\u001b[0;34m\u001b[0m\u001b[0m\n\u001b[1;32m    220\u001b[0m             \u001b[0mself\u001b[0m\u001b[0;34m.\u001b[0m\u001b[0mxaxis\u001b[0m\u001b[0;34m.\u001b[0m\u001b[0mlabelpad\u001b[0m \u001b[0;34m=\u001b[0m \u001b[0mlabelpad\u001b[0m\u001b[0;34m\u001b[0m\u001b[0m\n\u001b[0;32m--> 221\u001b[0;31m         \u001b[0;32mreturn\u001b[0m \u001b[0mself\u001b[0m\u001b[0;34m.\u001b[0m\u001b[0mxaxis\u001b[0m\u001b[0;34m.\u001b[0m\u001b[0mset_label_text\u001b[0m\u001b[0;34m(\u001b[0m\u001b[0mxlabel\u001b[0m\u001b[0;34m,\u001b[0m \u001b[0mfontdict\u001b[0m\u001b[0;34m,\u001b[0m \u001b[0;34m**\u001b[0m\u001b[0mkwargs\u001b[0m\u001b[0;34m)\u001b[0m\u001b[0;34m\u001b[0m\u001b[0m\n\u001b[0m\u001b[1;32m    222\u001b[0m \u001b[0;34m\u001b[0m\u001b[0m\n\u001b[1;32m    223\u001b[0m     \u001b[0;32mdef\u001b[0m \u001b[0mget_ylabel\u001b[0m\u001b[0;34m(\u001b[0m\u001b[0mself\u001b[0m\u001b[0;34m)\u001b[0m\u001b[0;34m:\u001b[0m\u001b[0;34m\u001b[0m\u001b[0m\n",
      "\u001b[0;32m/Users/pierre-louis/Library/Python/2.7/lib/python/site-packages/matplotlib/axis.pyc\u001b[0m in \u001b[0;36mset_label_text\u001b[0;34m(self, label, fontdict, **kwargs)\u001b[0m\n\u001b[1;32m   1475\u001b[0m         \"\"\"\n\u001b[1;32m   1476\u001b[0m         \u001b[0mself\u001b[0m\u001b[0;34m.\u001b[0m\u001b[0misDefault_label\u001b[0m \u001b[0;34m=\u001b[0m \u001b[0mFalse\u001b[0m\u001b[0;34m\u001b[0m\u001b[0m\n\u001b[0;32m-> 1477\u001b[0;31m         \u001b[0mself\u001b[0m\u001b[0;34m.\u001b[0m\u001b[0mlabel\u001b[0m\u001b[0;34m.\u001b[0m\u001b[0mset_text\u001b[0m\u001b[0;34m(\u001b[0m\u001b[0mlabel\u001b[0m\u001b[0;34m)\u001b[0m\u001b[0;34m\u001b[0m\u001b[0m\n\u001b[0m\u001b[1;32m   1478\u001b[0m         \u001b[0;32mif\u001b[0m \u001b[0mfontdict\u001b[0m \u001b[0;32mis\u001b[0m \u001b[0;32mnot\u001b[0m \u001b[0mNone\u001b[0m\u001b[0;34m:\u001b[0m\u001b[0;34m\u001b[0m\u001b[0m\n\u001b[1;32m   1479\u001b[0m             \u001b[0mself\u001b[0m\u001b[0;34m.\u001b[0m\u001b[0mlabel\u001b[0m\u001b[0;34m.\u001b[0m\u001b[0mupdate\u001b[0m\u001b[0;34m(\u001b[0m\u001b[0mfontdict\u001b[0m\u001b[0;34m)\u001b[0m\u001b[0;34m\u001b[0m\u001b[0m\n",
      "\u001b[0;32m/Users/pierre-louis/Library/Python/2.7/lib/python/site-packages/matplotlib/text.pyc\u001b[0m in \u001b[0;36mset_text\u001b[0;34m(self, s)\u001b[0m\n\u001b[1;32m   1204\u001b[0m         \u001b[0mACCEPTS\u001b[0m\u001b[0;34m:\u001b[0m \u001b[0mstring\u001b[0m \u001b[0;32mor\u001b[0m \u001b[0manything\u001b[0m \u001b[0mprintable\u001b[0m \u001b[0;32mwith\u001b[0m \u001b[0;34m'%s'\u001b[0m \u001b[0mconversion\u001b[0m\u001b[0;34m.\u001b[0m\u001b[0;34m\u001b[0m\u001b[0m\n\u001b[1;32m   1205\u001b[0m         \"\"\"\n\u001b[0;32m-> 1206\u001b[0;31m         \u001b[0mself\u001b[0m\u001b[0;34m.\u001b[0m\u001b[0m_text\u001b[0m \u001b[0;34m=\u001b[0m \u001b[0;34m'%s'\u001b[0m \u001b[0;34m%\u001b[0m \u001b[0;34m(\u001b[0m\u001b[0ms\u001b[0m\u001b[0;34m,\u001b[0m\u001b[0;34m)\u001b[0m\u001b[0;34m\u001b[0m\u001b[0m\n\u001b[0m\u001b[1;32m   1207\u001b[0m         \u001b[0mself\u001b[0m\u001b[0;34m.\u001b[0m\u001b[0mstale\u001b[0m \u001b[0;34m=\u001b[0m \u001b[0mTrue\u001b[0m\u001b[0;34m\u001b[0m\u001b[0m\n\u001b[1;32m   1208\u001b[0m \u001b[0;34m\u001b[0m\u001b[0m\n",
      "\u001b[0;31mUnicodeDecodeError\u001b[0m: 'ascii' codec can't decode byte 0xc3 in position 4: ordinal not in range(128)"
     ]
    }
   ],
   "source": [
    "P1 =  6 #rendement de 30m2 de panneau solaire\n",
    "P2 = -4.7e-3 #deviation en temperatrue\n",
    "P3 = 0 #gain supplémentaire\n",
    "Tref = 24\n",
    "NOCT = 43\n",
    "bale[\"prod-pv\"] = P1*( 1 + P2*(bale[\"Shortwave Radiation - backwards\"]*1e-3* \\\n",
    "                        (NOCT-20)/800))*(P3+bale[\"Shortwave Radiation - backwards\"]*1e-3)\n",
    "period = (bale.index.month == 2) & (bale.index.day == 20) & (bale.index.year == 2015)\n",
    "\n",
    "# F180-50\n",
    "# puissance = np.ones(20)* 50.0\n",
    "# puissance[:10]= [0,0,1,2.16,5.12,9.5,15.55, 23.52, 33.65, 45.0]\n",
    "# Modele F100-10\n",
    "puissance = np.ones(20)* 10.0\n",
    "\n",
    "# Modele F180-36\n",
    "puissance = np.ones(20)* 36.0\n",
    "puissance[:10]= [0,0,0,0.68,2.5, 5.45, 9.85, 15.9, 23.85, 33.9]\n",
    "plt.figure()\n",
    "bale['prod-eol'] = np.interp( bale['Wind speed'].values, np.arange(20.0), puissance)\n",
    "ax = plt.plot(bale['Wind speed'], bale['prod-eol'].values, '+')\n",
    "plt.xlabel(\"Vitesse du vent (m/s)\")\n",
    "plt.ylabel(\"Puissance produite (kW)\")\n",
    "plt.show()\n",
    "\n",
    "\n",
    "plt.figure()\n",
    "ax = bale[period].plot(y='prod-eol', label=\"Eolien\")\n",
    "bale[period].plot(y=\"prod-pv\", label=\"Photovoltaique\", ax=ax)\n",
    "bale[period].plot(y=\"consommation\", label=\"Consommation\", ax=ax)\n",
    "ax.legend(bbox_to_anchor=(0., 1.02, 1., .102), loc=3,\n",
    "           ncol=3, mode=\"expand\", borderaxespad=0.)\n",
    "ax = plt.gca()\n",
    "ax.yaxis.grid()\n",
    "plt.xlabel(bale[period].index[0].strftime(\"%d %b %Y\"))\n",
    "plt.ylabel(\"kWh\")\n",
    "ticklabels = ['']*len( bale[period].index)\n",
    "ticklabels[::3] = [item.strftime('%-H') for item in  bale[period].index[::3]]\n",
    "ax.xaxis.set_major_formatter(matplotlib.ticker.FixedFormatter(ticklabels))\n",
    "# ax.gcf().autofmt_xdate()\n",
    "\n"
   ]
  },
  {
   "cell_type": "markdown",
   "metadata": {},
   "source": [
    "## Loi de commande \n",
    "    - Vente: on vend tout, puis on achète selon nos besoins\n",
    "    - Consommation: on consomme ce qu'on produit, puis on vend les surplus\n",
    "    - BatterieNormale: on stocke les surplus\n",
    "    - BatterieAchat: à la fin d'une période d'heures creuses, on achète pour remplir la batterie jusqu'à un certain stade\n",
    "    - BatterieAchatOpt: à la fin d'une période d'heures creuses, on achète pour remplir la batterie afin ne pas manquer d'électricité lors d'une période d'heures pleines"
   ]
  },
  {
   "cell_type": "code",
   "execution_count": 41,
   "metadata": {
    "collapsed": false
   },
   "outputs": [],
   "source": [
    "def LoiVente(consommation, production, mask, rachat=prix_eolien):\n",
    "    depense = -production[mask]*rachat\n",
    "    depense += consommation[mask]*prix[mask]\n",
    "    return depense.cumsum()\n",
    "\n",
    "def LoiConso(consommation, production, mask, rachat=prix_eolien):\n",
    "    besoin = (consommation - production)\n",
    "    return Depense(besoin[mask], rachat)\n",
    "\n",
    "def LoiNormale(prod, cap_batterie, mask, conso = bale[\"consommation\"],  rendement=0.9):\n",
    "    batteriePleine = pd.Series(cap_batterie, index=bale[mask].index) \n",
    "    besoin = (conso-bale[prod])[mask]\n",
    "    stockage = pd.Series(0, index=bale[mask].index) \n",
    "    manque = pd.Series(0, index=bale[mask].index)   # manque  : > 0 si reseau > maison, <= 0 sinon\n",
    "    stockagePre = 0.0\n",
    "    for p in bale[mask].index:\n",
    "        m=  bale[mask].index == p\n",
    "        if besoin[m].values[0] > 0:\n",
    "            manque[m] = max(-stockagePre*rendement+besoin[m].values[0],0)\n",
    "            stockage[m] = max(stockagePre-besoin[m].values[0]/rendement,0)\n",
    "        elif besoin[m].values[0] < 0 and -besoin[m].values[0] > (cap_batterie - stockagePre):\n",
    "                stockage[m]=cap_batterie\n",
    "                manque[m] = (cap_batterie - stockagePre) -(-besoin[m].values[0]) # < 0 \n",
    "        elif besoin[m].values[0] < 0 and -besoin[m].values[0] < (cap_batterie - stockagePre):\n",
    "                manque[m] = 0\n",
    "                stockage[m] = -besoin[m].values[0] + stockagePre\n",
    "        stockagePre = stockage[m].values[0]\n",
    "\n",
    "    return [manque, stockage]\n",
    "\n",
    "def LoiAchat(prod, cap_batterie, mask, coeff = 1.0, rendement = 0.9):\n",
    "    batteriePleine = pd.Series(cap_batterie, index=bale[mask].index) \n",
    "    stockage = pd.Series(0, index=bale[mask].index) \n",
    "    manque = pd.Series(0, index=bale[mask].index)   # manque  : > 0 si reseau > maison, <= 0 sinon\n",
    "    besoin = (bale[\"consommation\"]-bale[prod])[mask]\n",
    "    stockagePre = 0.0\n",
    "    for p in bale[mask].index:\n",
    "        m=  bale[mask].index == p\n",
    "        transfert = 0 # > 0 si maison -> batterie, <= 0 sinon\n",
    "        if besoin[m].values[0] > 0:\n",
    "            manque[m] = max(-stockagePre*rendement+besoin[m].values[0],0)\n",
    "            stockage[m] = max(stockagePre-besoin[m].values[0]/rendement,0)\n",
    "        elif besoin[m].values[0] < 0 and (-besoin[m].values[0] > cap_batterie - stockagePre):\n",
    "                stockage[m]=cap_batterie\n",
    "                manque[m] = cap_batterie - stockagePre -(-besoin[m].values[0]) # < 0 \n",
    "        elif besoin[m].values[0] < 0 and (-besoin[m].values[0] < cap_batterie - stockagePre):\n",
    "                manque[m] = 0\n",
    "                stockage[m] = -besoin[m].values[0] + stockagePre\n",
    "        h = p.hour\n",
    "        if (h == 16 or h == 6) and (stockage[m].values[0] < cap_batterie*coeff):\n",
    "            manque[m] += cap_batterie*coeff - stockage[m].values[0] \n",
    "            stockage[m] = cap_batterie*coeff \n",
    "        stockagePre = stockage[m].values[0]\n",
    "\n",
    "    return [manque, stockage]\n",
    "\n",
    "def Anticipation(prod, cap_batterie, mask, conso = bale[\"consommation\"], rendement = 0.9):\n",
    "# calcul ce dont il faut acheter pour subvenir aux besoins futurs de la HP\n",
    "    [manque, stockage] = LoiNormale(prod, cap_batterie, mask, conso=conso, rendement= rendement)\n",
    "    return manque[manque > 0 ].sum()\n",
    "    \n",
    "def LoiOptimal(prod,cap_batterie, mask, rendement = 0.9, conso=bale['consommation']):\n",
    "    batteriePleine = pd.Series(cap_batterie, index=bale[mask].index) \n",
    "    stockage = pd.Series(0, index=bale[mask].index) \n",
    "    decision_times = pd.Series(0,index=bale[mask].index)\n",
    "    manque = pd.Series(0, index=bale[mask].index)   # manque  : > 0 si reseau > maison, <= 0 sinon\n",
    "    besoin = (bale[\"consommation\"]-bale[prod])[mask]\n",
    "    stockagePre = 0.0\n",
    "    for p in bale[mask].index:\n",
    "        start_time = time.time()\n",
    "        m=  bale[mask].index == p\n",
    "        transfert = 0 # > 0 si maison -> batterie, <= 0 sinon\n",
    "        if besoin[m].values[0] > 0:\n",
    "            manque[m] = max(-stockagePre*rendement+besoin[m].values[0],0)\n",
    "            stockage[m] = max(stockagePre-besoin[m].values[0]/rendement,0)\n",
    "        elif besoin[m].values[0] < 0 and (-besoin[m].values[0] > cap_batterie - stockagePre):\n",
    "                stockage[m]=cap_batterie\n",
    "                manque[m] = cap_batterie - stockagePre -(-besoin[m].values[0]) # < 0 \n",
    "        elif besoin[m].values[0] < 0 and (-besoin[m].values[0] < cap_batterie - stockagePre):\n",
    "                manque[m] = 0\n",
    "                stockage[m] = -besoin[m].values[0] + stockagePre\n",
    "        h = p.hour\n",
    "        if (h == 16):\n",
    "            periodHP = mask & (bale.index >= (p + pd.DateOffset(hours=1)))\n",
    "            periodHP &= bale.index <= (p + pd.DateOffset(hours=10))\n",
    "            besoinHP = Anticipation(prod, cap_batterie, periodHP, conso=conso)\n",
    "            if (besoinHP > stockage[m].values[0] ):\n",
    "                manque[m] += min(besoinHP, cap_batterie) - stockage[m].values[0] \n",
    "                stockage[m] = min(besoinHP, cap_batterie)\n",
    "        if (h == 6):\n",
    "            periodHP = mask & (bale.index >= (p + pd.DateOffset(hours=1)))\n",
    "            periodHP &= bale.index <= (p + pd.DateOffset(hours=8))\n",
    "            besoinHP = Anticipation(prod, cap_batterie, periodHP, conso=conso)\n",
    "            if (besoinHP > stockage[m].values[0] ):\n",
    "                manque[m] += min(besoinHP, cap_batterie) - stockage[m].values[0] \n",
    "                stockage[m] = min(besoinHP, cap_batterie)\n",
    "\n",
    "        stockagePre = stockage[m].values[0]\n",
    "        decision_times[m] = (time.time() - start_time)\n",
    "    \n",
    "    print \"Temps d'exécution: \"\n",
    "    print decision_times.describe()\n",
    "    return [manque, stockage]"
   ]
  },
  {
   "cell_type": "markdown",
   "metadata": {},
   "source": [
    "## Besoin, manque et stockage sur une journée"
   ]
  },
  {
   "cell_type": "code",
   "execution_count": 6,
   "metadata": {
    "collapsed": false
   },
   "outputs": [
    {
     "name": "stdout",
     "output_type": "stream",
     "text": [
      "-0.8261897325\n"
     ]
    }
   ],
   "source": [
    "plt.figure()\n",
    "period = (bale.index.month == 1) \n",
    "cap_batterie = 7\n",
    "besoin = (bale['consommation'] - bale['prod-eol'])[period]\n",
    "speriod = (besoin.index.month == 1) & (besoin.index.day == 5)\n",
    "[manque, stockage] = LoiNormale('prod-eol',  cap_batterie, period)\n",
    "besoin[speriod].plot(label=\"Besoin\")\n",
    "manque[speriod].plot(label=\"Manque\")\n",
    "stockage[speriod].plot(label=\"Stockage\")\n",
    "plt.legend(bbox_to_anchor=(0., 1.02, 1., .102), loc=3,\n",
    "           ncol=3, mode=\"expand\", borderaxespad=0.)\n",
    "ax = plt.gca()\n",
    "ax.grid(True, which='both')\n",
    "plt.xlabel(\"Temps\")\n",
    "plt.ylabel(\"kWh\")\n",
    "print besoin[speriod].mean()"
   ]
  },
  {
   "cell_type": "code",
   "execution_count": 7,
   "metadata": {
    "collapsed": false
   },
   "outputs": [],
   "source": [
    "plt.figure()\n",
    "bale['consommation'][period].cumsum().plot(label=\"Consommation\")\n",
    "bale['prod-pv'][period].cumsum().plot(label=\"Photovoltaïque\")\n",
    "bale['prod-eol'][period].cumsum().plot(label=\"Eolien\")\n",
    "plt.legend(bbox_to_anchor=(0., 1.02, 1., .102), loc=3,\n",
    "           ncol=3, mode=\"expand\", borderaxespad=0.)\n",
    "\n",
    "plt.xlabel(\"Temps\")\n",
    "plt.ylabel(\"kWh\")\n",
    "ax = plt.gca()\n",
    "ax.yaxis.grid()\n",
    "plt.show()"
   ]
  },
  {
   "cell_type": "markdown",
   "metadata": {},
   "source": [
    "## Influence du coefficient de remplissage"
   ]
  },
  {
   "cell_type": "code",
   "execution_count": null,
   "metadata": {
    "collapsed": false
   },
   "outputs": [],
   "source": [
    "period = (bale.index.year == 2013)\n",
    "cap_batterie = 14\n",
    "coeff = np.arange(0, 1.1, 0.2)\n",
    "\n",
    "besoin = (bale['consommation'] - bale['prod-pv'])[period]\n",
    "coeff_pv = []\n",
    "for i in coeff:\n",
    "    print i\n",
    "    [manque, stockage] = LoiAchat('prod-pv', cap_batterie, period, i)\n",
    "    coeff_pv.append(Depense(manque,prix_pv)[-1])\n",
    "    \n",
    "besoin = (bale['consommation'] - bale['prod-eol'])[period]\n",
    "coeff_eol = []\n",
    "for i in coeff:\n",
    "    print i\n",
    "    [manque, stockage] = LoiAchat('prod-eol', cap_batterie, period, i)\n",
    "    coeff_eol.append(Depense(manque,prix_eolien)[-1])\n"
   ]
  },
  {
   "cell_type": "code",
   "execution_count": null,
   "metadata": {
    "collapsed": false
   },
   "outputs": [],
   "source": [
    "plt.figure()\n",
    "plt.plot(coeff, coeff_pv/max(coeff_pv), label=\"Photovoltaique\")\n",
    "plt.plot(coeff, coeff_eol/max(coeff_eol), label=\"Eolien\")\n",
    "plt.legend(bbox_to_anchor=(0., 1.02, 1., .102), loc=3,\n",
    "           ncol=2, mode=\"expand\", borderaxespad=0.)\n",
    "ax = plt.gca()\n",
    "plt.xlabel(\"Coefficient de remplissage\")\n",
    "plt.ylabel(\"Facture normalisée\")\n",
    "ax.yaxis.grid()"
   ]
  },
  {
   "cell_type": "markdown",
   "metadata": {},
   "source": [
    "## Facture avec le photovoltaïque"
   ]
  },
  {
   "cell_type": "code",
   "execution_count": 42,
   "metadata": {
    "collapsed": false
   },
   "outputs": [
    {
     "name": "stdout",
     "output_type": "stream",
     "text": [
      "Temps d'exécution: \n",
      "count    5857.000000\n",
      "mean        0.004923\n",
      "std         0.007457\n",
      "min         0.002389\n",
      "25%         0.002472\n",
      "50%         0.002552\n",
      "75%         0.002904\n",
      "max         0.043952\n",
      "dtype: float64\n",
      "Temps d'exécution: \n",
      "count    5857.000000\n",
      "mean        0.004892\n",
      "std         0.007411\n",
      "min         0.002378\n",
      "25%         0.002468\n",
      "50%         0.002544\n",
      "75%         0.002877\n",
      "max         0.040684\n",
      "dtype: float64\n"
     ]
    }
   ],
   "source": [
    "# period = (bale.index.month == 1) & (bale.index.day == 1)\n",
    "period = (bale.index.year == 2016)\n",
    "cap_batterie = 14\n",
    "besoin = (bale['consommation'] - bale['prod-pv'])[period]\n",
    "pv = {}\n",
    "rendement = 0.9\n",
    "\n",
    "# 1. en vendant systematiquement notre production de photovoltaique\n",
    "pv['Vente'] = LoiVente(bale['consommation'], bale['prod-pv'], period, prix_pv)\n",
    "\n",
    "# 2. On consomme notre production de photovoltaique et on vend ce qu'on ne consomme pas\n",
    "pv[\"Consommation\"] = LoiConso(bale['consommation'], bale['prod-pv'], period, prix_pv)\n",
    "\n",
    "# 3. On stocke et on n'utilise notre production qu'aux HP\n",
    "[manqueNormal, stockageN] = LoiNormale('prod-pv',  cap_batterie, period)\n",
    "pv[\"Normal\"] = Depense(manqueNormal,prix_pv)\n",
    "\n",
    "# 4. On remplit la batterie en fin de HC\n",
    "[manqueAchat, stockageAchat] = LoiAchat('prod-pv', cap_batterie, period, 1.0)\n",
    "pv[\"Achat\"] = Depense(manqueAchat, prix_pv)\n",
    "\n",
    "# 5. On remplit la batterie en fin de HC en prévoyant notre besoin futur\n",
    "[manqueOpt, stockageOpt] = LoiOptimal(\"prod-pv\", cap_batterie, period)\n",
    "pv[\"Oracle\"] = Depense(manqueOpt, prix_pv)\n",
    "\n",
    "# 6. Avec une prédiction de la consommation\n",
    "[manquePred, stockagePred] = LoiOptimal(\"prod-pv\", cap_batterie, period, conso=bale['prediction'])\n",
    "pv[\"Optimal\"] = Depense(manquePred, prix_pv)\n"
   ]
  },
  {
   "cell_type": "code",
   "execution_count": null,
   "metadata": {
    "collapsed": false
   },
   "outputs": [],
   "source": [
    "plt.figure()\n",
    "for name in pv:\n",
    "    pv[name].plot(label=name)\n",
    "    print \"%s : %f\" % (name, pv[name][-1])\n",
    "# plt.title(\"Comparaison des lois de consommation en photovoltaïque\")\n",
    "plt.legend(bbox_to_anchor=(0., 1.02, 1., .102), loc=3,\n",
    "           ncol=3, mode=\"expand\", borderaxespad=0.)\n",
    "ax = plt.gca()\n",
    "plt.xlabel(\"Temps\")\n",
    "plt.ylabel(\"Facture (EUR)\")#€\n",
    "ax.yaxis.grid()\n",
    "plt.show()"
   ]
  },
  {
   "cell_type": "code",
   "execution_count": null,
   "metadata": {
    "collapsed": false
   },
   "outputs": [],
   "source": [
    "plt.figure()\n",
    "period = bale.index.year == 2013\n",
    "cap_batterie = 14\n",
    "bale['consommation'][period].cumsum().plot(label=\"Consommation\")\n",
    "bale['prod-pv'][period].cumsum().plot(label=\"Photovoltaïque\")\n",
    "bale['prod-eol'][period].cumsum().plot(label=\"Eolien\")\n",
    "plt.legend(bbox_to_anchor=(0., 1.02, 1., .102), loc=3,\n",
    "           ncol=3, mode=\"expand\", borderaxespad=0.)\n",
    "plt.xlabel(\"Temps\")\n",
    "plt.ylabel(\"kWh\")\n",
    "ax = plt.gca()\n",
    "ax.yaxis.grid()"
   ]
  },
  {
   "cell_type": "markdown",
   "metadata": {},
   "source": [
    "## Facture avec l'éolien"
   ]
  },
  {
   "cell_type": "code",
   "execution_count": 44,
   "metadata": {
    "collapsed": false
   },
   "outputs": [
    {
     "name": "stdout",
     "output_type": "stream",
     "text": [
      "Temps d'exécution: \n",
      "count    5857.000000\n",
      "mean        0.004936\n",
      "std         0.007422\n",
      "min         0.002401\n",
      "25%         0.002501\n",
      "50%         0.002601\n",
      "75%         0.002902\n",
      "max         0.042233\n",
      "dtype: float64\n",
      "Temps d'exécution: \n",
      "count    5857.000000\n",
      "mean        0.004980\n",
      "std         0.007597\n",
      "min         0.002396\n",
      "25%         0.002506\n",
      "50%         0.002611\n",
      "75%         0.002912\n",
      "max         0.095397\n",
      "dtype: float64\n"
     ]
    }
   ],
   "source": [
    "# period = (bale.index.month == 1)# & (bale.index.day == 1)\n",
    "period = (bale.index.year == 2016)\n",
    "cap_batterie = 14\n",
    "besoin = (bale['consommation'] - bale['prod-eol'])[period]\n",
    "eol_dep = {}\n",
    "\n",
    "# 1. en vendant systematiquement notre production de photovoltaique\n",
    "eol_dep[\"Vente\"] = LoiVente(bale['consommation'], bale['prod-eol'], period, prix_eolien)\n",
    "\n",
    "# 2. On consomme notre production de photovoltaique et on vend ce qu'on ne consomme pas\n",
    "eol_dep[\"Consommation\"] = LoiConso(bale['consommation'], bale['prod-eol'], period, prix_eolien)\n",
    "\n",
    "# 3. On stocke et on n'utilise notre production qu'aux HP\n",
    "[manqueNormal, stockageN] = LoiNormale('prod-eol',  cap_batterie, period)\n",
    "eol_dep[\"Normal\"] = Depense(manqueNormal,prix_eolien)\n",
    "\n",
    "# 4. On remplit la batterie en fin de HC\n",
    "[manqueAchat, stockageAchat] = LoiAchat('prod-eol', cap_batterie, period, 1.0)\n",
    "eol_dep[\"Achat\"] = Depense(manqueAchat, prix_eolien)\n",
    "\n",
    "# 5. On remplit la batterie en fin de HC en prévoyant notre besoin futur\n",
    "[manqueOpt, stockageOpt] = LoiOptimal(\"prod-eol\", cap_batterie, period)\n",
    "eol_dep[\"Optimal\"] = Depense(manqueOpt, prix_eolien)\n",
    "\n",
    "# 6. Avec une prédiction de la consommation\n",
    "[manquePred, stockagePred] = LoiOptimal(\"prod-eol\", cap_batterie, period, conso=bale['prediction'])\n",
    "eol_dep[\"OptimalPred\"] = Depense(manquePred, prix_eolien)\n"
   ]
  },
  {
   "cell_type": "code",
   "execution_count": 58,
   "metadata": {
    "collapsed": false
   },
   "outputs": [
    {
     "name": "stdout",
     "output_type": "stream",
     "text": [
      "Normal : -128.651070\n",
      "Vente : 504.661268\n",
      "Oracle : -169.589861\n",
      "Optimal : -167.071849\n",
      "Achat : -118.035827\n",
      "Consommation : -9.855218\n"
     ]
    }
   ],
   "source": [
    "plt.figure()\n",
    "for name in eol_dep:\n",
    "    eol_dep[name].plot(label=name)\n",
    "    print \"%s : %f\" % (name, eol_dep[name][-1])\n",
    "    \n",
    "\n",
    "# plt.title(\"Comparaison des lois de consommation en éolien\")\n",
    "plt.legend(bbox_to_anchor=(0., 1.02, 1., .102), loc=3,\n",
    "           ncol=3, mode=\"expand\", borderaxespad=0.)\n",
    "ax = plt.gca()\n",
    "plt.xlabel(\"Temps\")\n",
    "plt.ylabel(\"Facture (EUR)\")#€\n",
    "ax.yaxis.grid()"
   ]
  },
  {
   "cell_type": "markdown",
   "metadata": {},
   "source": [
    "## Quelle batterie faut-il ?"
   ]
  },
  {
   "cell_type": "code",
   "execution_count": null,
   "metadata": {
    "collapsed": false
   },
   "outputs": [],
   "source": [
    "batteries = range(2,20,2)#[7,10,14]\n",
    "period = (bale.index.year == 2013)\n",
    "cap_batterie = 14\n",
    "\n",
    "\n",
    "# en photovoltaique\n",
    "pv_batt = {}\n",
    "besoin = (bale['consommation'] - bale['prod-pv'])[period]\n",
    "for b in batteries:\n",
    "    [manqueOpt, stockageOpt] = LoiOptimal(besoin, b, period)\n",
    "    pv_batt[b] = Depense(manqueOpt, prix_pv)[-1]\n",
    "\n",
    "\n",
    "# en eolien\n",
    "eol_batt = {}\n",
    "besoin = (bale['consommation'] - bale['prod-eol'])[period]\n",
    "for b in batteries:\n",
    "    [manqueOpt, stockageOpt] = LoiOptimal(besoin, b, period)\n",
    "    eol_batt[b] = Depense(manqueOpt, prix_eolien)[-1]\n",
    "\n",
    "\n",
    "# sans production\n",
    "noprod_batt = {}\n",
    "besoin = bale['consommation'][period]\n",
    "for b in batteries:\n",
    "    [manqueOpt, stockageOpt] = LoiOptimal(besoin, b, period)\n",
    "    noprod_batt[b] = Depense(manqueOpt, 0)[-1]"
   ]
  },
  {
   "cell_type": "code",
   "execution_count": null,
   "metadata": {
    "collapsed": false
   },
   "outputs": [],
   "source": [
    "plt.figure()\n",
    "plt.plot(batteries, pv_batt.values()/max(pv_batt.values()), label=\"Photovoltaïque\")\n",
    "max_eol = np.max(np.abs(np.array(eol_batt.values())))\n",
    "eol = (2*max_eol+ np.array(eol_batt.values()))\n",
    "eol = eol/max(eol)\n",
    "plt.plot(batteries,eol, label=\"Eolien\")\n",
    "plt.plot(batteries, noprod_batt.values()/max(noprod_batt.values()), label=\"Sans production\")\n",
    "\n",
    "plt.legend(bbox_to_anchor=(0., 1.02, 1., .102), loc=3,\n",
    "           ncol=3, mode=\"expand\", borderaxespad=0.)\n",
    "ax = plt.gca()\n",
    "plt.xlabel(\"Capacité de batterie\")\n",
    "plt.ylabel(\"Facture normalisée\")\n",
    "ax.yaxis.grid()"
   ]
  },
  {
   "cell_type": "markdown",
   "metadata": {},
   "source": [
    "## Visualisation sur un jour"
   ]
  },
  {
   "cell_type": "code",
   "execution_count": 36,
   "metadata": {
    "collapsed": false
   },
   "outputs": [
    {
     "name": "stdout",
     "output_type": "stream",
     "text": [
      "Temps d'exécution: \n",
      "count    744.000000\n",
      "mean       0.005206\n",
      "std        0.008717\n",
      "min        0.002093\n",
      "25%        0.002259\n",
      "50%        0.002480\n",
      "75%        0.003154\n",
      "max        0.061421\n",
      "dtype: float64\n",
      "Temps d'exécution: \n",
      "count    744.000000\n",
      "mean       0.005270\n",
      "std        0.008688\n",
      "min        0.002107\n",
      "25%        0.002301\n",
      "50%        0.002542\n",
      "75%        0.003200\n",
      "max        0.048518\n",
      "dtype: float64\n"
     ]
    }
   ],
   "source": [
    "plt.figure()\n",
    "period = (bale.index.year == 2016) & (bale.index.month == 1) & (bale.index.day == 1)\n",
    "(bale['consommation'][period]-bale['prod-eol'][period]).plot(label=\"besoin\")\n",
    "cap_batterie = 14\n",
    "coeff_rempli = 1.0\n",
    "# [manque, stockage] = BatterieNormale(besoin, cap_batterie, period, 1.0)\n",
    "# [manque, stockage] = BatterieAchat(besoin, cap_batterie, period, coeff_rempli)\n",
    "[manque, stockage] = LoiOptimal('prod-eol', cap_batterie, period, conso=bale['prediction'])\n",
    "manque.plot(label=\"manquePred\")\n",
    "stockage.plot(label=\"stockagePred\")\n",
    "Depense(manque, rachat=prix_eolien).plot(label=\"depensePred\")\n",
    "[manque, stockage] = LoiOptimal('prod-eol', cap_batterie, period)\n",
    "manque.plot(label=\"manqueOpt\")\n",
    "stockage.plot(label=\"stockageOpt\")\n",
    "Depense(manque, rachat=prix_eolien).plot(label=\"depense opt\")\n",
    "\n",
    "plt.legend(bbox_to_anchor=(0., 1.02, 1., .102), loc=3,\n",
    "           ncol=2, mode=\"expand\", borderaxespad=0.)\n",
    "plt.show()"
   ]
  },
  {
   "cell_type": "code",
   "execution_count": 1,
   "metadata": {
    "collapsed": false
   },
   "outputs": [
    {
     "ename": "NameError",
     "evalue": "name 'plt' is not defined",
     "output_type": "error",
     "traceback": [
      "\u001b[0;31m---------------------------------------------------------------------------\u001b[0m",
      "\u001b[0;31mNameError\u001b[0m                                 Traceback (most recent call last)",
      "\u001b[0;32m<ipython-input-1-261031256d00>\u001b[0m in \u001b[0;36m<module>\u001b[0;34m()\u001b[0m\n\u001b[0;32m----> 1\u001b[0;31m \u001b[0mplt\u001b[0m\u001b[0;34m.\u001b[0m\u001b[0mfigure\u001b[0m\u001b[0;34m(\u001b[0m\u001b[0;34m)\u001b[0m\u001b[0;34m\u001b[0m\u001b[0m\n\u001b[0m\u001b[1;32m      2\u001b[0m \u001b[0mperiod\u001b[0m \u001b[0;34m=\u001b[0m \u001b[0;34m(\u001b[0m\u001b[0mbale\u001b[0m\u001b[0;34m.\u001b[0m\u001b[0mindex\u001b[0m\u001b[0;34m.\u001b[0m\u001b[0myear\u001b[0m \u001b[0;34m==\u001b[0m \u001b[0;36m2016\u001b[0m\u001b[0;34m)\u001b[0m \u001b[0;34m&\u001b[0m \u001b[0;34m(\u001b[0m\u001b[0mbale\u001b[0m\u001b[0;34m.\u001b[0m\u001b[0mindex\u001b[0m\u001b[0;34m.\u001b[0m\u001b[0mmonth\u001b[0m \u001b[0;34m==\u001b[0m \u001b[0;36m3\u001b[0m\u001b[0;34m)\u001b[0m \u001b[0;34m&\u001b[0m \u001b[0;34m(\u001b[0m\u001b[0mbale\u001b[0m\u001b[0;34m.\u001b[0m\u001b[0mindex\u001b[0m\u001b[0;34m.\u001b[0m\u001b[0mday\u001b[0m \u001b[0;34m==\u001b[0m \u001b[0;36m1\u001b[0m\u001b[0;34m)\u001b[0m\u001b[0;34m\u001b[0m\u001b[0m\n\u001b[1;32m      3\u001b[0m \u001b[0mbale\u001b[0m\u001b[0;34m[\u001b[0m\u001b[0;34m'consommation'\u001b[0m\u001b[0;34m]\u001b[0m\u001b[0;34m[\u001b[0m\u001b[0mperiod\u001b[0m\u001b[0;34m]\u001b[0m\u001b[0;34m.\u001b[0m\u001b[0mplot\u001b[0m\u001b[0;34m(\u001b[0m\u001b[0mlabel\u001b[0m\u001b[0;34m=\u001b[0m\u001b[0;34m\"Consommation\"\u001b[0m\u001b[0;34m)\u001b[0m\u001b[0;34m\u001b[0m\u001b[0m\n\u001b[1;32m      4\u001b[0m \u001b[0mbale\u001b[0m\u001b[0;34m[\u001b[0m\u001b[0;34m'prediction'\u001b[0m\u001b[0;34m]\u001b[0m\u001b[0;34m[\u001b[0m\u001b[0mperiod\u001b[0m\u001b[0;34m]\u001b[0m\u001b[0;34m.\u001b[0m\u001b[0mplot\u001b[0m\u001b[0;34m(\u001b[0m\u001b[0mlabel\u001b[0m\u001b[0;34m=\u001b[0m\u001b[0;34m\"Prédiction\"\u001b[0m\u001b[0;34m)\u001b[0m\u001b[0;34m\u001b[0m\u001b[0m\n\u001b[1;32m      5\u001b[0m \u001b[0mbale\u001b[0m\u001b[0;34m[\u001b[0m\u001b[0;34m'prod-eol'\u001b[0m\u001b[0;34m]\u001b[0m\u001b[0;34m[\u001b[0m\u001b[0mperiod\u001b[0m\u001b[0;34m]\u001b[0m\u001b[0;34m.\u001b[0m\u001b[0mplot\u001b[0m\u001b[0;34m(\u001b[0m\u001b[0mlabel\u001b[0m\u001b[0;34m=\u001b[0m\u001b[0;34m\"Eolien\"\u001b[0m\u001b[0;34m)\u001b[0m\u001b[0;34m\u001b[0m\u001b[0m\n",
      "\u001b[0;31mNameError\u001b[0m: name 'plt' is not defined"
     ]
    }
   ],
   "source": [
    "plt.figure()\n",
    "period = (bale.index.year == 2016) & (bale.index.month == 3) & (bale.index.day == 1)\n",
    "bale['consommation'][period].plot(label=\"Consommation\")\n",
    "bale['prediction'][period].plot(label=\"Prédiction\")\n",
    "bale['prod-eol'][period].plot(label=\"Eolien\")\n",
    "bale['prod-pv'][period].plot(label=\"Photovoltaïque\")\n",
    "\n",
    "plt.legend(bbox_to_anchor=(0., 1.02, 1., .102), loc=3,\n",
    "           ncol=2, mode=\"expand\", borderaxespad=0.)\n",
    "plt.show()"
   ]
  },
  {
   "cell_type": "code",
   "execution_count": 19,
   "metadata": {
    "collapsed": false
   },
   "outputs": [
    {
     "data": {
      "text/plain": [
       "0.058815797251434473"
      ]
     },
     "execution_count": 19,
     "metadata": {},
     "output_type": "execute_result"
    }
   ],
   "source": [
    "mean_squared_error(\n",
    "            bale[a2016]['consommation'], bale[a2016]['prediction'])/bale[a2016]['consommation'].mean()"
   ]
  }
 ],
 "metadata": {
  "kernelspec": {
   "display_name": "Python 2",
   "language": "python",
   "name": "python2"
  },
  "language_info": {
   "codemirror_mode": {
    "name": "ipython",
    "version": 2
   },
   "file_extension": ".py",
   "mimetype": "text/x-python",
   "name": "python",
   "nbconvert_exporter": "python",
   "pygments_lexer": "ipython2",
   "version": "2.7.10"
  }
 },
 "nbformat": 4,
 "nbformat_minor": 1
}
